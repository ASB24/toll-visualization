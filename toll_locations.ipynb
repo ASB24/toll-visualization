{
 "cells": [
  {
   "cell_type": "markdown",
   "metadata": {},
   "source": [
    "# Toll Locations\n",
    "This notebook creates the toll locations CSV based on [RD VIAL](https://rdvial.gob.do/peajes/) toll location data, scraped from the Leaflet map configuration."
   ]
  },
  {
   "cell_type": "code",
   "execution_count": 1,
   "metadata": {},
   "outputs": [],
   "source": [
    "import requests\n",
    "from bs4 import BeautifulSoup as B\n",
    "import json\n",
    "import pandas as pd\n",
    "import os\n",
    "\n",
    "html = requests.get(\"https://rdvial.gob.do/peajes/\")\n",
    "cursor = B(html.text, \"html.parser\")\n",
    "findings = cursor.find_all(\"div\", id=\"wpmapblock_153ead85\")  # Leaflet map DIV\n",
    "\n",
    "# Mapping from RDVial toll names to MOPC toll names\n",
    "title_map = {\n",
    "    \"Peaje 6 de Noviembre\": \"6 de Noviembre\",\n",
    "    \"Estación de peaje Circunvalación Juan Bosch 1\": \"Tramo 1\",\n",
    "    \"Estación de peaje Circunvalación Juan Bosch 2\": \"Tramo 2\",\n",
    "    \"Estación de Peaje Circunvalación Santiago\": \"Santiago\",\n",
    "    \"Peaje Coral 1\": \"Coral 1\",\n",
    "    \"Peaje Coral 2\": \"Coral 2\",\n",
    "    \"Peaje Duarte\": \"Duarte\",\n",
    "    \"Peaje La Romana\": \"Romana\",\n",
    "    \"Peaje Las Américas\": \"Americas\",\n",
    "    \"Peaje Sánchez\": \"Sanchez\",\n",
    "    # \"Peaje Azua\": \"Azua\",\n",
    "    \"Peaje Marbella\": \"Marbella\",\n",
    "    \"Peaje Naranjal\": \"Naranjal\",\n",
    "    \"Peaje Guaraguao\": \"Guaraguao\",\n",
    "    \"Peaje El Catey\": \"Catey\"\n",
    "}"
   ]
  },
  {
   "cell_type": "markdown",
   "metadata": {},
   "source": [
    "Given the multiples properties needed to configure the markers in the Leaflet map, the only relevant information for toll visualization is the latitude and longitude properties; the title property is what we will use to join this table to the main toll DataFrame.\n",
    "\n",
    "The last object added manually is toll data from Tramo 2B, which was not available in RD Vial, this was taken from [Peajes RD](https://peajesrd.com/peaje-circunvalacion-juan-bosch-tramo-2b/)"
   ]
  },
  {
   "cell_type": "code",
   "execution_count": null,
   "metadata": {},
   "outputs": [],
   "source": [
    "settings_str = findings[0].get(\"data-settings\")\n",
    "settings_dict = json.loads(settings_str)\n",
    "settings_dict = [{\"lat\": x[\"lat\"], \"lng\": x[\"lng\"], \"title\": title_map[x['title']]}\n",
    "                 for x in settings_dict[\"map_marker\"] if x['title'] in title_map.keys()]\n",
    "settings_dict.append({\n",
    "    'lat': 18.57225770188021,\n",
    "    'lng': -69.77991741619846,\n",
    "    'title': 'Tramo 2B'\n",
    "})\n",
    "\n",
    "df = pd.DataFrame(settings_dict).astype({\"lat\": float, \"lng\": float, \"title\": 'string'})\n",
    "print(df.dtypes)\n",
    "print(df.shape)\n",
    "df.head()"
   ]
  },
  {
   "cell_type": "markdown",
   "metadata": {},
   "source": [
    "Finally, the table is ready to be exported."
   ]
  },
  {
   "cell_type": "code",
   "execution_count": 44,
   "metadata": {},
   "outputs": [],
   "source": [
    "if not os.path.exists(\"./data\"):\n",
    "    os.makedirs(\"./data\")\n",
    "df.to_csv(\"./data/locations.csv\", index=False)"
   ]
  }
 ],
 "metadata": {
  "kernelspec": {
   "display_name": "toll-visualization",
   "language": "python",
   "name": "python3"
  },
  "language_info": {
   "codemirror_mode": {
    "name": "ipython",
    "version": 3
   },
   "file_extension": ".py",
   "mimetype": "text/x-python",
   "name": "python",
   "nbconvert_exporter": "python",
   "pygments_lexer": "ipython3",
   "version": "3.12.1"
  }
 },
 "nbformat": 4,
 "nbformat_minor": 2
}
