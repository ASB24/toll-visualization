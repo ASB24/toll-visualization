{
 "cells": [
  {
   "cell_type": "code",
   "execution_count": 43,
   "metadata": {},
   "outputs": [
    {
     "name": "stdout",
     "output_type": "stream",
     "text": [
      "lat             float64\n",
      "lng             float64\n",
      "title    string[python]\n",
      "dtype: object\n",
      "(15, 3)\n"
     ]
    },
    {
     "data": {
      "text/html": [
       "<div>\n",
       "<style scoped>\n",
       "    .dataframe tbody tr th:only-of-type {\n",
       "        vertical-align: middle;\n",
       "    }\n",
       "\n",
       "    .dataframe tbody tr th {\n",
       "        vertical-align: top;\n",
       "    }\n",
       "\n",
       "    .dataframe thead th {\n",
       "        text-align: right;\n",
       "    }\n",
       "</style>\n",
       "<table border=\"1\" class=\"dataframe\">\n",
       "  <thead>\n",
       "    <tr style=\"text-align: right;\">\n",
       "      <th></th>\n",
       "      <th>lat</th>\n",
       "      <th>lng</th>\n",
       "      <th>title</th>\n",
       "    </tr>\n",
       "  </thead>\n",
       "  <tbody>\n",
       "    <tr>\n",
       "      <th>0</th>\n",
       "      <td>18.44438</td>\n",
       "      <td>-70.00161</td>\n",
       "      <td>6 de Noviembre</td>\n",
       "    </tr>\n",
       "    <tr>\n",
       "      <th>1</th>\n",
       "      <td>18.46784</td>\n",
       "      <td>-70.05065</td>\n",
       "      <td>Tramo 1</td>\n",
       "    </tr>\n",
       "    <tr>\n",
       "      <th>2</th>\n",
       "      <td>18.47485</td>\n",
       "      <td>-70.05070</td>\n",
       "      <td>Tramo 2</td>\n",
       "    </tr>\n",
       "    <tr>\n",
       "      <th>3</th>\n",
       "      <td>19.52216</td>\n",
       "      <td>-70.74407</td>\n",
       "      <td>Santiago</td>\n",
       "    </tr>\n",
       "    <tr>\n",
       "      <th>4</th>\n",
       "      <td>18.51722</td>\n",
       "      <td>-68.82749</td>\n",
       "      <td>Coral 1</td>\n",
       "    </tr>\n",
       "  </tbody>\n",
       "</table>\n",
       "</div>"
      ],
      "text/plain": [
       "        lat       lng           title\n",
       "0  18.44438 -70.00161  6 de Noviembre\n",
       "1  18.46784 -70.05065         Tramo 1\n",
       "2  18.47485 -70.05070         Tramo 2\n",
       "3  19.52216 -70.74407        Santiago\n",
       "4  18.51722 -68.82749         Coral 1"
      ]
     },
     "execution_count": 43,
     "metadata": {},
     "output_type": "execute_result"
    }
   ],
   "source": [
    "import requests\n",
    "from bs4 import BeautifulSoup as B\n",
    "import json\n",
    "import pandas as pd\n",
    "import os\n",
    "\n",
    "html = requests.get(\"https://rdvial.gob.do/peajes/\")\n",
    "cursor = B(html.text, \"html.parser\")\n",
    "findings = cursor.find_all(\"div\", id=\"wpmapblock_153ead85\")\n",
    "title_map = {\n",
    "    \"Peaje 6 de Noviembre\": \"6 de Noviembre\",\n",
    "    \"Estación de peaje Circunvalación Juan Bosch 1\": \"Tramo 1\",\n",
    "    \"Estación de peaje Circunvalación Juan Bosch 2\": \"Tramo 2\",\n",
    "    \"Estación de Peaje Circunvalación Santiago\": \"Santiago\",\n",
    "    \"Peaje Coral 1\": \"Coral 1\",\n",
    "    \"Peaje Coral 2\": \"Coral 2\",\n",
    "    \"Peaje Duarte\": \"Duarte\",\n",
    "    \"Peaje La Romana\": \"Romana\",\n",
    "    \"Peaje Las Américas\": \"Americas\",\n",
    "    \"Peaje Sánchez\": \"Sanchez\",\n",
    "    # \"Peaje Azua\": \"Azua\",\n",
    "    \"Peaje Marbella\": \"Marbella\",\n",
    "    \"Peaje Naranjal\": \"Naranjal\",\n",
    "    \"Peaje Guaraguao\": \"Guaraguao\",\n",
    "    \"Peaje El Catey\": \"Catey\"\n",
    "}\n",
    "\n",
    "\n",
    "settings_str = findings[0].get(\"data-settings\")\n",
    "settings_dict = json.loads(settings_str)\n",
    "settings_dict = [{\"lat\": x[\"lat\"], \"lng\": x[\"lng\"], \"title\": title_map[x['title']]}\n",
    "                 for x in settings_dict[\"map_marker\"] if x['title'] in title_map.keys()]\n",
    "settings_dict.append({\n",
    "    'lat': 18.57225770188021,\n",
    "    'lng': -69.77991741619846,\n",
    "    'title': 'Tramo 2B'\n",
    "})\n",
    "\n",
    "df = pd.DataFrame(settings_dict).astype({\"lat\": float, \"lng\": float, \"title\": 'string'})\n",
    "print(df.dtypes)\n",
    "print(df.shape)\n",
    "df.head()"
   ]
  },
  {
   "cell_type": "code",
   "execution_count": 44,
   "metadata": {},
   "outputs": [],
   "source": [
    "if not os.path.exists(\"./data\"):\n",
    "    os.makedirs(\"./data\")\n",
    "df.to_csv(\"./data/locations.csv\", index=False)"
   ]
  }
 ],
 "metadata": {
  "kernelspec": {
   "display_name": "toll-visualization",
   "language": "python",
   "name": "python3"
  },
  "language_info": {
   "codemirror_mode": {
    "name": "ipython",
    "version": 3
   },
   "file_extension": ".py",
   "mimetype": "text/x-python",
   "name": "python",
   "nbconvert_exporter": "python",
   "pygments_lexer": "ipython3",
   "version": "3.12.1"
  }
 },
 "nbformat": 4,
 "nbformat_minor": 2
}
