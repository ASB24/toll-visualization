{
 "cells": [
  {
   "cell_type": "code",
   "execution_count": 7,
   "metadata": {},
   "outputs": [],
   "source": [
    "import os\n",
    "import requests\n",
    "\n",
    "data_path = \"./data/toll_traffic.csv\"\n",
    "toll_traffic_url = 'https://www.mopc.gob.do/media/26613/trafico-de-peaje-rd-vial-2021-2022-noviembre2023.csv'\n",
    "\n",
    "if(not os.path.exists(data_path)):\n",
    "    with open(data_path, 'wb') as f:\n",
    "        f.write(requests.get(toll_traffic_url).content)\n"
   ]
  }
 ],
 "metadata": {
  "kernelspec": {
   "display_name": "toll-visualization",
   "language": "python",
   "name": "python3"
  },
  "language_info": {
   "codemirror_mode": {
    "name": "ipython",
    "version": 3
   },
   "file_extension": ".py",
   "mimetype": "text/x-python",
   "name": "python",
   "nbconvert_exporter": "python",
   "pygments_lexer": "ipython3",
   "version": "3.12.1"
  }
 },
 "nbformat": 4,
 "nbformat_minor": 2
}
